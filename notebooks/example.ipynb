{
 "cells": [
  {
   "cell_type": "code",
   "execution_count": 1,
   "metadata": {},
   "outputs": [],
   "source": [
    "# autoreload\n",
    "%load_ext autoreload\n",
    "%autoreload 2\n",
    "\n",
    "import numpy as np\n",
    "\n",
    "import call_my_bluff as cmb"
   ]
  },
  {
   "cell_type": "code",
   "execution_count": 2,
   "metadata": {},
   "outputs": [],
   "source": [
    "state = cmb.game.initialize_game(3)"
   ]
  },
  {
   "cell_type": "code",
   "execution_count": 3,
   "metadata": {},
   "outputs": [
    {
     "data": {
      "text/plain": [
       "State(num_players=3, bet_index=-1, player_curr=2, player_prev=None, turn_order=[2, 0, 1], num_dice=[5, 5, 5], dice=[[5, 1, 4, 0, 3], [1, 1, 2, 1, 0], [0, 4, 2, 4, 5]], dice_locked=[[False, False, False, False, False], [False, False, False, False, False], [False, False, False, False, False]], action_log=[])"
      ]
     },
     "execution_count": 3,
     "metadata": {},
     "output_type": "execute_result"
    }
   ],
   "source": [
    "state"
   ]
  },
  {
   "cell_type": "code",
   "execution_count": 6,
   "metadata": {},
   "outputs": [
    {
     "name": "stdout",
     "output_type": "stream",
     "text": [
      "1\n",
      "2\n",
      "3\n",
      "4\n",
      "5\n",
      "6\n",
      "7\n",
      "8\n",
      "9\n",
      "10\n",
      "11\n",
      "12\n",
      "13\n"
     ]
    }
   ],
   "source": [
    "state = cmb.initialize_game(3)\n",
    "\n",
    "count = 0\n",
    "while not cmb.game_over(state):\n",
    "\n",
    "    observation = cmb.player_observation(state)\n",
    "\n",
    "    state = cmb.player_action(state, cmb.Action(type=cmb.ActionType.BET, bet_index=state.bet_index + 1))\n",
    "\n",
    "\n",
    "\n",
    "\n",
    "    if count == 12:\n",
    "        state.num_dice = [0, 0, 1]\n",
    "\n",
    "    count += 1\n",
    "    print(count)\n"
   ]
  },
  {
   "cell_type": "code",
   "execution_count": 7,
   "metadata": {},
   "outputs": [
    {
     "name": "stdout",
     "output_type": "stream",
     "text": [
      "Player 0 bet 1 0s\n",
      "Player 1 bet 1 1s\n",
      "Player 2 bet 1 2s\n",
      "Player 0 bet 1 3s\n",
      "Player 1 bet 1 4s\n",
      "Player 2 bet 1 5s\n",
      "Player 0 bet 2 0s\n",
      "Player 1 bet 2 1s\n",
      "Player 2 bet 2 2s\n",
      "Player 0 bet 2 3s\n",
      "Player 1 bet 2 4s\n",
      "Player 2 bet 3 0s\n",
      "Player 0 bet 3 1s\n"
     ]
    }
   ],
   "source": [
    "cmb.render(state)"
   ]
  },
  {
   "cell_type": "code",
   "execution_count": 12,
   "metadata": {},
   "outputs": [],
   "source": [
    "x = [1, 1, 2, 3]\n",
    "x.remove(1)"
   ]
  },
  {
   "cell_type": "code",
   "execution_count": 13,
   "metadata": {},
   "outputs": [
    {
     "data": {
      "text/plain": [
       "[1, 2, 3]"
      ]
     },
     "execution_count": 13,
     "metadata": {},
     "output_type": "execute_result"
    }
   ],
   "source": [
    "x"
   ]
  },
  {
   "cell_type": "code",
   "execution_count": 16,
   "metadata": {},
   "outputs": [],
   "source": [
    "action = cmb.ActionType.CALL\n",
    "if action == cmb.ActionType.BET:\n",
    "    print(\"call\")"
   ]
  },
  {
   "cell_type": "code",
   "execution_count": null,
   "metadata": {},
   "outputs": [],
   "source": [
    "# def play_game(num_players):\n",
    "#     game_state = initialize_game(num_players)\n",
    "#     history = [game_state]\n",
    "#     while not game_over(game_state):\n",
    "#         render(game_state)\n",
    "#         player = next_player(game_state)\n",
    "#         action = get_user_input(game_state, player)\n",
    "#         try:\n",
    "#             if action.type == \"bet\":\n",
    "#                 game_state = make_bet(game_state, player, action.bet)\n",
    "#             elif action.type == \"reroll\":\n",
    "#                 game_state = reroll_dice(game_state, player, action.dice_to_lock)\n",
    "#             elif action.type == \"call\":\n",
    "#                 game_state = call(game_state, player)\n",
    "#             history.append(game_state)\n",
    "#         except InvalidActionError as e:\n",
    "#             handle_invalid_action(e)\n",
    "#     render(game_state)\n",
    "#     return history"
   ]
  },
  {
   "cell_type": "code",
   "execution_count": null,
   "metadata": {},
   "outputs": [],
   "source": []
  },
  {
   "cell_type": "code",
   "execution_count": 51,
   "metadata": {},
   "outputs": [],
   "source": [
    "class SimpleAgent:\n",
    "\n",
    "    def policy(self, state):\n",
    "        player = state[\"player\"]\n",
    "        dice_roll = state[\"dice_roll\"]\n",
    "        locked_dice = state[\"locked_dice\"]\n",
    "        unknown_dice_per_competitor = state[\"unknown_dice_per_competitor\"]\n",
    "        known_dice_per_competitor = state[\"known_dice_per_competitor\"]\n",
    "        competitors = list(unknown_dice_per_competitor.keys())\n",
    "        log = state[\"log\"]\n",
    "        bet_index = state[\"bet_index\"]\n",
    "\n",
    "        if bet_index is None:\n",
    "            return {\"call\": False, \"reroll\": False, \"bet\": 0}\n",
    "        \n",
    "        (num_dice_bet, dice_value) = cmb.bet_index_to_bet(bet_index)\n",
    "        \n",
    "        total_dice = len(dice_roll) + np.sum(list(unknown_dice_per_competitor.values())) + \\\n",
    "            np.sum(np.stack(list(known_dice_per_competitor.values()), axis=0))\n",
    "        \n",
    "        if dice_value == 5:\n",
    "            expected_dice = total_dice / 6\n",
    "        else:\n",
    "            expected_dice = total_dice / 3\n",
    "\n",
    "        if num_dice_bet > expected_dice or bet_index == 109:\n",
    "            return {\"call\": True}\n",
    "        else:\n",
    "            return {\"call\": False, \"reroll\": False, \"bet\": bet_index + 1}\n"
   ]
  },
  {
   "cell_type": "code",
   "execution_count": 91,
   "metadata": {},
   "outputs": [],
   "source": [
    "class MaxAgent:\n",
    "\n",
    "    def policy(self, state):\n",
    "        player = state[\"player\"]\n",
    "        dice_roll = state[\"dice_roll\"]\n",
    "        locked_dice = state[\"locked_dice\"]\n",
    "        unknown_dice_per_competitor = state[\"unknown_dice_per_competitor\"]\n",
    "        known_dice_per_competitor = state[\"known_dice_per_competitor\"]\n",
    "        competitors = list(unknown_dice_per_competitor.keys())\n",
    "        log = state[\"log\"]\n",
    "        bet_index = state[\"bet_index\"]\n",
    "                \n",
    "        total_unknown_dice = np.sum(list(unknown_dice_per_competitor.values()))\n",
    "        known_dice= np.zeros((6,), dtype=np.int32)\n",
    "        max_bet_indices = []\n",
    "        for i in range(6):\n",
    "            known_dice[i] += np.sum(dice_roll == i)\n",
    "            for competitor in competitors:\n",
    "                known_dice[i] += np.sum(known_dice_per_competitor[competitor] == i)\n",
    "\n",
    "            if i == 5:\n",
    "                expected_num_dice = total_unknown_dice / 6.0 + known_dice[i]\n",
    "            else:\n",
    "                expected_num_dice = total_unknown_dice / 3.0 + known_dice[i] + known_dice[5]\n",
    "\n",
    "            expected_num_dice = np.floor(expected_num_dice)\n",
    "            if expected_num_dice == 0:\n",
    "                max_bet_indices.append(0)\n",
    "            else:\n",
    "                max_bet_indices.append(cmb.bet_to_bet_index((expected_num_dice, i)))\n",
    "        \n",
    "        max_bet_index = int(np.max(max_bet_indices))\n",
    "        if bet_index is None:\n",
    "            return {\"call\": False, \"reroll\": False, \"bet\": max_bet_index}\n",
    "        if bet_index >= max_bet_index or bet_index == 109:\n",
    "            return {\"call\": True}\n",
    "        else:\n",
    "            return {\"call\": False, \"reroll\": False, \"bet\": max_bet_index}\n",
    "\n"
   ]
  },
  {
   "cell_type": "code",
   "execution_count": 94,
   "metadata": {},
   "outputs": [],
   "source": [
    "players = [SimpleAgent(), MaxAgent(), MaxAgent(), MaxAgent()]"
   ]
  },
  {
   "cell_type": "code",
   "execution_count": 98,
   "metadata": {},
   "outputs": [
    {
     "name": "stdout",
     "output_type": "stream",
     "text": [
      "####################\n",
      "new round\n",
      "remaining dice per player {0: 5, 1: 5, 2: 5, 3: 5}\n",
      "player 2 bet (4, 5)\n",
      "player 0 called (4, 5) with a difference of 1 dice\n",
      "####################\n",
      "new round\n",
      "remaining dice per player {0: 4, 1: 5, 2: 5, 3: 5}\n",
      "player 1 bet (4, 5)\n",
      "player 3 called (4, 5) with a difference of -1 dice\n",
      "####################\n",
      "new round\n",
      "remaining dice per player {0: 4, 1: 4, 2: 5, 3: 5}\n",
      "player 2 bet (4, 5)\n",
      "player 0 called (4, 5) with a difference of 2 dice\n",
      "####################\n",
      "new round\n",
      "remaining dice per player {0: 2, 1: 4, 2: 5, 3: 5}\n",
      "player 1 bet (6, 3)\n",
      "player 3 called (6, 3) with a difference of 4 dice\n",
      "####################\n",
      "new round\n",
      "remaining dice per player {0: 2, 1: 4, 2: 5, 3: 1}\n",
      "player 2 bet (4, 1)\n",
      "player 0 bet (4, 2)\n",
      "player 1 called (4, 2) with a difference of -2 dice\n",
      "####################\n",
      "new round\n",
      "remaining dice per player {0: 0, 1: 4, 2: 5, 3: 1}\n",
      "player 3 bet (4, 3)\n",
      "player 2 called (4, 3) with a difference of 3 dice\n",
      "####################\n",
      "new round\n",
      "remaining dice per player {0: 0, 1: 4, 2: 2, 3: 1}\n",
      "player 1 bet (3, 2)\n",
      "player 3 bet (3, 3)\n",
      "player 2 called (3, 3) with a difference of -2 dice\n",
      "####################\n",
      "new round\n",
      "remaining dice per player {0: 0, 1: 4, 2: 2, 3: 0}\n",
      "player 1 bet (2, 4)\n",
      "player 2 called (2, 4) with a difference of 2 dice\n",
      "####################\n",
      "new round\n",
      "remaining dice per player {0: 0, 1: 4, 2: 0, 3: 0}\n"
     ]
    }
   ],
   "source": [
    "simple_agent = SimpleAgent()\n",
    "game = cmb.Game(num_players=4)\n",
    "\n",
    "count = 0\n",
    "for player in game.next_player():\n",
    "\n",
    "    state = game.get_state(player)\n",
    "    # print(state)\n",
    "\n",
    "    game.turn(players[player].policy(state))\n",
    "    count += 1\n",
    "    if count > 10000:\n",
    "        break"
   ]
  },
  {
   "cell_type": "code",
   "execution_count": 61,
   "metadata": {},
   "outputs": [
    {
     "data": {
      "text/plain": [
       "2"
      ]
     },
     "execution_count": 61,
     "metadata": {},
     "output_type": "execute_result"
    }
   ],
   "source": [
    "player"
   ]
  },
  {
   "cell_type": "code",
   "execution_count": null,
   "metadata": {},
   "outputs": [],
   "source": []
  }
 ],
 "metadata": {
  "kernelspec": {
   "display_name": ".venv",
   "language": "python",
   "name": "python3"
  },
  "language_info": {
   "codemirror_mode": {
    "name": "ipython",
    "version": 3
   },
   "file_extension": ".py",
   "mimetype": "text/x-python",
   "name": "python",
   "nbconvert_exporter": "python",
   "pygments_lexer": "ipython3",
   "version": "3.11.4"
  },
  "orig_nbformat": 4
 },
 "nbformat": 4,
 "nbformat_minor": 2
}

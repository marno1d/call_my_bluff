{
 "cells": [
  {
   "cell_type": "code",
   "execution_count": 1,
   "metadata": {},
   "outputs": [],
   "source": [
    "import numpy as np\n",
    "from tqdm import tqdm\n",
    "import call_my_bluff as cmb\n",
    "\n",
    "from people_agents.matthew_agent_v0 import MatthewAgentV0"
   ]
  },
  {
   "cell_type": "code",
   "execution_count": 3,
   "metadata": {},
   "outputs": [
    {
     "name": "stderr",
     "output_type": "stream",
     "text": [
      "100%|██████████| 10000/10000 [00:05<00:00, 1831.03it/s]"
     ]
    },
    {
     "name": "stdout",
     "output_type": "stream",
     "text": [
      "Win percentages after 10000 games:\n",
      "MaxAgent: 0.8513\n",
      "SimpleAgent: 0.0437\n",
      "MatthewAgentV0: 0.105\n"
     ]
    },
    {
     "name": "stderr",
     "output_type": "stream",
     "text": [
      "\n"
     ]
    }
   ],
   "source": [
    "agents = [cmb.agents.MaxAgent(), cmb.agents.SimpleAgent(), MatthewAgentV0()]\n",
    "agent_names = [agent.__class__.__name__ for agent in agents]\n",
    "wins = np.zeros(len(agents))\n",
    "\n",
    "num_games = 10000\n",
    "\n",
    "for _ in tqdm(range(num_games)):\n",
    "    state = cmb.game.initialize_game(len(agents))\n",
    "    while not cmb.game.game_over(state):\n",
    "        while not cmb.game.round_over(state):\n",
    "\n",
    "            observation = cmb.game.player_observation(state)\n",
    "            action = agents[state.player_curr].policy(observation)\n",
    "            state = cmb.game.player_action(state, action)\n",
    "\n",
    "        for agent in agents:\n",
    "            agent.round_results(state)\n",
    "        state = cmb.game.new_round(state)\n",
    "    wins[state.player_curr] += 1\n",
    "\n",
    "print(f\"Win percentages after {num_games} games:\")\n",
    "for i, agent_name in enumerate(agent_names):\n",
    "    print(f\"{agent_name}: {wins[i] / num_games}\")\n",
    "\n",
    "\n"
   ]
  },
  {
   "cell_type": "code",
   "execution_count": null,
   "metadata": {},
   "outputs": [],
   "source": []
  },
  {
   "cell_type": "code",
   "execution_count": null,
   "metadata": {},
   "outputs": [],
   "source": []
  }
 ],
 "metadata": {
  "kernelspec": {
   "display_name": ".venv",
   "language": "python",
   "name": "python3"
  },
  "language_info": {
   "codemirror_mode": {
    "name": "ipython",
    "version": 3
   },
   "file_extension": ".py",
   "mimetype": "text/x-python",
   "name": "python",
   "nbconvert_exporter": "python",
   "pygments_lexer": "ipython3",
   "version": "3.10.7"
  },
  "orig_nbformat": 4
 },
 "nbformat": 4,
 "nbformat_minor": 2
}

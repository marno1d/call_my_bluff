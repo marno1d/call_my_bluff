{
 "cells": [
  {
   "cell_type": "code",
   "execution_count": 1,
   "metadata": {},
   "outputs": [],
   "source": [
    "import numpy as np\n",
    "from tqdm import tqdm\n",
    "import call_my_bluff as cmb\n",
    "\n",
    "from people_agents.matthew_agent_v0 import MatthewAgentV0\n",
    "from people_agents.matthew_agent_v1 import MatthewAgentV1\n",
    "from people_agents.ben_agent_v0 import BenAgentV0\n",
    "from people_agents.brandon_agent_v0 import BrandonAgentV0\n",
    "from people_agents.rashid_agent_v2 import RashidAgentV2\n",
    "from people_agents.dylan_agent_v0 import DylanAgentV0"
   ]
  },
  {
   "cell_type": "code",
   "execution_count": 6,
   "metadata": {},
   "outputs": [
    {
     "name": "stderr",
     "output_type": "stream",
     "text": [
      " 15%|█▌        | 1541/10000 [00:22<02:05, 67.43it/s]"
     ]
    },
    {
     "name": "stdout",
     "output_type": "stream",
     "text": [
      "Invalid bet index\n",
      "Invalid bet index\n"
     ]
    },
    {
     "name": "stderr",
     "output_type": "stream",
     "text": [
      " 23%|██▎       | 2321/10000 [00:33<01:41, 75.59it/s]"
     ]
    },
    {
     "name": "stdout",
     "output_type": "stream",
     "text": [
      "Invalid bet index\n"
     ]
    },
    {
     "name": "stderr",
     "output_type": "stream",
     "text": [
      " 60%|█████▉    | 5975/10000 [01:26<01:01, 65.66it/s]"
     ]
    },
    {
     "name": "stdout",
     "output_type": "stream",
     "text": [
      "Invalid bet index\n"
     ]
    },
    {
     "name": "stderr",
     "output_type": "stream",
     "text": [
      " 63%|██████▎   | 6297/10000 [01:30<00:53, 68.83it/s]"
     ]
    },
    {
     "name": "stdout",
     "output_type": "stream",
     "text": [
      "Invalid bet index\n"
     ]
    },
    {
     "name": "stderr",
     "output_type": "stream",
     "text": [
      " 82%|████████▏ | 8185/10000 [01:58<00:24, 75.39it/s]"
     ]
    },
    {
     "name": "stdout",
     "output_type": "stream",
     "text": [
      "Invalid bet index\n"
     ]
    },
    {
     "name": "stderr",
     "output_type": "stream",
     "text": [
      " 95%|█████████▌| 9536/10000 [02:17<00:06, 68.50it/s]"
     ]
    },
    {
     "name": "stdout",
     "output_type": "stream",
     "text": [
      "Invalid bet index\n"
     ]
    },
    {
     "name": "stderr",
     "output_type": "stream",
     "text": [
      "100%|██████████| 10000/10000 [02:24<00:00, 69.34it/s]"
     ]
    },
    {
     "name": "stdout",
     "output_type": "stream",
     "text": [
      "Win percentages after 10000 games:\n",
      "MatthewAgentV1: 0.3218\n",
      "BenAgentV0: 0.15\n",
      "BrandonAgentV0: 0.0965\n",
      "RashidAgentV2: 0.2279\n",
      "DylanAgentV0: 0.0962\n",
      "MaxAgent: 0.1076\n"
     ]
    },
    {
     "name": "stderr",
     "output_type": "stream",
     "text": [
      "\n"
     ]
    }
   ],
   "source": [
    "agents = [MatthewAgentV1(), BenAgentV0(), BrandonAgentV0(), RashidAgentV2(0.25, 0.85, 0.65), DylanAgentV0(), cmb.agents.MaxAgent()]\n",
    "agent_names = [agent.__class__.__name__ for agent in agents]\n",
    "wins = np.zeros(len(agents))\n",
    "\n",
    "num_games = 10000\n",
    "\n",
    "for _ in tqdm(range(num_games)):\n",
    "    state = cmb.game.initialize_game(len(agents))\n",
    "    while not cmb.game.game_over(state):\n",
    "        while not cmb.game.round_over(state):\n",
    "\n",
    "            observation = cmb.game.player_observation(state)\n",
    "            action = agents[state.player_curr].policy(observation)\n",
    "            state = cmb.game.player_action(state, action)\n",
    "\n",
    "        for agent in agents:\n",
    "            agent.round_results(cmb.game.player_result(state))\n",
    "        state = cmb.game.new_round(state)\n",
    "    wins[state.player_curr] += 1\n",
    "\n",
    "print(f\"Win percentages after {num_games} games:\")\n",
    "for i, agent_name in enumerate(agent_names):\n",
    "    print(f\"{agent_name}: {wins[i] / num_games}\")\n",
    "\n",
    "\n"
   ]
  },
  {
   "cell_type": "code",
   "execution_count": null,
   "metadata": {},
   "outputs": [],
   "source": []
  },
  {
   "cell_type": "code",
   "execution_count": null,
   "metadata": {},
   "outputs": [],
   "source": []
  }
 ],
 "metadata": {
  "kernelspec": {
   "display_name": ".venv",
   "language": "python",
   "name": "python3"
  },
  "language_info": {
   "codemirror_mode": {
    "name": "ipython",
    "version": 3
   },
   "file_extension": ".py",
   "mimetype": "text/x-python",
   "name": "python",
   "nbconvert_exporter": "python",
   "pygments_lexer": "ipython3",
   "version": "3.11.4"
  },
  "orig_nbformat": 4
 },
 "nbformat": 4,
 "nbformat_minor": 2
}

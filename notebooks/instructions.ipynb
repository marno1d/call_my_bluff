{
 "cells": [
  {
   "cell_type": "code",
   "execution_count": 1,
   "metadata": {},
   "outputs": [],
   "source": [
    "import numpy as np\n",
    "import call_my_bluff as cmb"
   ]
  },
  {
   "cell_type": "markdown",
   "metadata": {},
   "source": [
    "# Bet\n",
    "\n",
    "Dice are 0, 1, 2, 3, 4 and 5 (6-sided dice) \n",
    "5 represents the star side\n",
    "\n",
    "A bet is represented by num_dice and dice_value\n",
    "\n",
    "Each bet also has an index with 0 corresponding to the lowest bet you can make and 109 is the highest bet you can make"
   ]
  },
  {
   "cell_type": "code",
   "execution_count": 6,
   "metadata": {},
   "outputs": [
    {
     "name": "stdout",
     "output_type": "stream",
     "text": [
      "num_dice: 2\n",
      "dice_value: 3\n",
      "index: 9\n"
     ]
    }
   ],
   "source": [
    "bet = cmb.game.Bet(num_dice=2, dice_value=3)\n",
    "print(\"num_dice:\", bet.num_dice)\n",
    "print(\"dice_value:\", bet.dice_value)\n",
    "print(\"index:\", bet.index)"
   ]
  },
  {
   "cell_type": "code",
   "execution_count": 9,
   "metadata": {},
   "outputs": [
    {
     "name": "stdout",
     "output_type": "stream",
     "text": [
      "num_dice: 15\n",
      "dice_value: 1\n",
      "index: 78\n"
     ]
    }
   ],
   "source": [
    "bet.index = 78\n",
    "print(\"num_dice:\", bet.num_dice)\n",
    "print(\"dice_value:\", bet.dice_value)\n",
    "print(\"index:\", bet.index)"
   ]
  },
  {
   "cell_type": "code",
   "execution_count": 10,
   "metadata": {},
   "outputs": [
    {
     "name": "stdout",
     "output_type": "stream",
     "text": [
      "num_dice: 4\n",
      "dice_value: 1\n",
      "index: 18\n"
     ]
    }
   ],
   "source": [
    "bet.num_dice = 4\n",
    "print(\"num_dice:\", bet.num_dice)\n",
    "print(\"dice_value:\", bet.dice_value)\n",
    "print(\"index:\", bet.index)"
   ]
  },
  {
   "cell_type": "code",
   "execution_count": 8,
   "metadata": {},
   "outputs": [
    {
     "name": "stdout",
     "output_type": "stream",
     "text": [
      "index: 33, num_dice: 7, dice_value: 0\n",
      "index: 34, num_dice: 7, dice_value: 1\n",
      "index: 35, num_dice: 7, dice_value: 2\n",
      "index: 36, num_dice: 7, dice_value: 3\n",
      "index: 37, num_dice: 7, dice_value: 4\n",
      "index: 38, num_dice: 4, dice_value: 5\n",
      "index: 39, num_dice: 8, dice_value: 0\n",
      "index: 40, num_dice: 8, dice_value: 1\n",
      "index: 41, num_dice: 8, dice_value: 2\n",
      "index: 42, num_dice: 8, dice_value: 3\n",
      "index: 43, num_dice: 8, dice_value: 4\n",
      "index: 44, num_dice: 9, dice_value: 0\n"
     ]
    }
   ],
   "source": [
    "for i in range(33, 45):\n",
    "    bet = cmb.game.Bet(index=i)\n",
    "    print(f\"index: {i}, num_dice: {bet.num_dice}, dice_value: {bet.dice_value}\")"
   ]
  },
  {
   "cell_type": "markdown",
   "metadata": {},
   "source": [
    "# Game State"
   ]
  },
  {
   "cell_type": "code",
   "execution_count": 3,
   "metadata": {},
   "outputs": [],
   "source": [
    "'''\n",
    "@dataclass\n",
    "class State:\n",
    "    num_players: int\n",
    "    bet: Bet\n",
    "    player_curr: int\n",
    "    player_prev: Optional[int]\n",
    "    turn_order: List[int]\n",
    "    num_dice: List[int]\n",
    "    dice: List[List[int]]\n",
    "    dice_locked: List[List[bool]]\n",
    "    action_log: List[Action]\n",
    "'''"
   ]
  },
  {
   "cell_type": "code",
   "execution_count": 4,
   "metadata": {},
   "outputs": [
    {
     "data": {
      "text/plain": [
       "State(num_players=3, bet=<call_my_bluff.game.Bet object at 0x119be2450>, player_curr=0, player_prev=None, turn_order=[0, 1, 2], num_dice=[5, 5, 5], dice=[[3, 3, 1, 4, 4], [5, 5, 2, 0, 0], [3, 1, 4, 1, 2]], dice_locked=[[False, False, False, False, False], [False, False, False, False, False], [False, False, False, False, False]], action_log=[])"
      ]
     },
     "execution_count": 4,
     "metadata": {},
     "output_type": "execute_result"
    }
   ],
   "source": [
    "state = cmb.game.initialize_game(3)\n",
    "state"
   ]
  },
  {
   "cell_type": "markdown",
   "metadata": {},
   "source": [
    "# Observation"
   ]
  },
  {
   "cell_type": "code",
   "execution_count": null,
   "metadata": {},
   "outputs": [],
   "source": [
    "'''\n",
    "@dataclass\n",
    "class Observation:\n",
    "    player: int\n",
    "    bet: Bet\n",
    "    unknown_dice: List[int]\n",
    "    known_dice: List[List[int]]\n",
    "    player_locked_dice: List[bool]\n",
    "    action_log: List[Action]\n",
    "'''"
   ]
  },
  {
   "cell_type": "code",
   "execution_count": 14,
   "metadata": {},
   "outputs": [
    {
     "data": {
      "text/plain": [
       "Observation(player=0, bet=<call_my_bluff.game.Bet object at 0x119be2450>, unknown_dice=[0, 5, 5], known_dice=[[3, 3, 1, 4, 4], [], []], player_locked_dice=[False, False, False, False, False], action_log=[])"
      ]
     },
     "execution_count": 14,
     "metadata": {},
     "output_type": "execute_result"
    }
   ],
   "source": [
    "observation = cmb.game.player_observation(state)\n",
    "observation"
   ]
  },
  {
   "cell_type": "markdown",
   "metadata": {},
   "source": [
    "# Action"
   ]
  },
  {
   "cell_type": "code",
   "execution_count": null,
   "metadata": {},
   "outputs": [],
   "source": [
    "'''\n",
    "@dataclass\n",
    "class Action:\n",
    "    type: ActionType\n",
    "    dice_to_lock: Optional[List[bool]] = None\n",
    "    bet: Optional[Bet] = None\n",
    "    result: Optional[Tuple[int]] = None\n",
    "    player: Optional[int] = None\n",
    "\n",
    "class ActionType(Enum):\n",
    "    CALL = 0\n",
    "    BET = 1\n",
    "    REROLL_BET = 2\n",
    "    RESULT = 3\n",
    "'''"
   ]
  },
  {
   "cell_type": "code",
   "execution_count": 16,
   "metadata": {},
   "outputs": [],
   "source": [
    "# Call action\n",
    "action = cmb.game.Action(type=cmb.game.ActionType.CALL)\n",
    "\n",
    "# Bet action\n",
    "action = cmb.game.Action(type=cmb.game.ActionType.BET, bet=cmb.game.Bet(num_dice=2, dice_value=3))\n",
    "\n",
    "# Reroll bet action\n",
    "action = cmb.game.Action(type=cmb.game.ActionType.REROLL_BET, \n",
    "                         bet=cmb.game.Bet(num_dice=2, dice_value=3),\n",
    "                         dice_to_lock=[True, False, False, False, False])\n",
    "\n",
    "# Result action\n",
    "# handled by the game"
   ]
  },
  {
   "cell_type": "code",
   "execution_count": 17,
   "metadata": {},
   "outputs": [
    {
     "data": {
      "text/plain": [
       "State(num_players=3, bet=<call_my_bluff.game.Bet object at 0x11e869910>, player_curr=1, player_prev=0, turn_order=[0, 1, 2], num_dice=[5, 5, 5], dice=[[3, 2, 1, 3, 0], [5, 5, 2, 0, 0], [3, 1, 4, 1, 2]], dice_locked=[[True, False, False, False, False], [False, False, False, False, False], [False, False, False, False, False]], action_log=[Action(type=<ActionType.REROLL_BET: 2>, dice_to_lock=[True, False, False, False, False], bet=<call_my_bluff.game.Bet object at 0x11e869910>, result=None, player=0)])"
      ]
     },
     "execution_count": 17,
     "metadata": {},
     "output_type": "execute_result"
    }
   ],
   "source": [
    "state = cmb.game.player_action(state, action)\n",
    "state"
   ]
  },
  {
   "cell_type": "markdown",
   "metadata": {},
   "source": [
    "# Example game"
   ]
  },
  {
   "cell_type": "code",
   "execution_count": 18,
   "metadata": {},
   "outputs": [
    {
     "name": "stdout",
     "output_type": "stream",
     "text": [
      "####################\n",
      "New round started.\n",
      "Players have [5, 5, 5] dice.\n",
      "--------------------\n",
      "Player 2's turn, their dice are: [4, 3, 5, 1, 5]\n",
      "Player 2 bet 4 0s\n",
      "--------------------\n",
      "Player 1's turn, their dice are: [4, 4, 0, 0, 2]\n",
      "Player 1 bet 4 4s\n",
      "--------------------\n",
      "Player 0's turn, their dice are: [5, 1, 0, 0, 3]\n",
      "Player 0 bet 6 0s\n",
      "--------------------\n",
      "Player 2's turn, their dice are: [4, 3, 5, 1, 5]\n",
      "Player 2 called the bet.\n",
      "There are actually 7 0s.\n",
      "Player 2 loses 1 dice.\n",
      "####################\n",
      "New round started.\n",
      "Players have [5, 5, 4] dice.\n",
      "--------------------\n",
      "Player 0's turn, their dice are: [3, 3, 1, 0, 2]\n",
      "Player 0 bet 5 3s\n",
      "--------------------\n",
      "Player 2's turn, their dice are: [3, 0, 5, 0]\n",
      "Player 2 called the bet.\n",
      "There are actually 5 3s.\n",
      "Everyone but the better loses a die.\n",
      "####################\n",
      "New round started.\n",
      "Players have [5, 4, 3] dice.\n",
      "--------------------\n",
      "Player 0's turn, their dice are: [4, 2, 1, 1, 1]\n",
      "Player 0 bet 5 1s\n",
      "--------------------\n",
      "Player 2's turn, their dice are: [5, 1, 3]\n",
      "Player 2 called the bet.\n",
      "There are actually 6 1s.\n",
      "Player 2 loses 1 dice.\n",
      "####################\n",
      "New round started.\n",
      "Players have [5, 4, 2] dice.\n",
      "--------------------\n",
      "Player 0's turn, their dice are: [3, 2, 4, 3, 4]\n",
      "Player 0 bet 4 4s\n",
      "--------------------\n",
      "Player 2's turn, their dice are: [5, 3]\n",
      "Player 2 called the bet.\n",
      "There are actually 4 4s.\n",
      "Everyone but the better loses a die.\n",
      "####################\n",
      "New round started.\n",
      "Players have [5, 3, 1] dice.\n",
      "--------------------\n",
      "Player 0's turn, their dice are: [0, 4, 3, 2, 0]\n",
      "Player 0 bet 3 0s\n",
      "--------------------\n",
      "Player 2's turn, their dice are: [5]\n",
      "Player 2 bet 3 1s\n",
      "--------------------\n",
      "Player 1's turn, their dice are: [2, 1, 4]\n",
      "Player 1 bet 3 2s\n",
      "--------------------\n",
      "Player 0's turn, their dice are: [0, 4, 3, 2, 0]\n",
      "Player 0 called the bet.\n",
      "There are actually 3 2s.\n",
      "Everyone but the better loses a die.\n",
      "####################\n",
      "New round started.\n",
      "Players have [4, 3, 0] dice.\n",
      "--------------------\n",
      "Player 1's turn, their dice are: [4, 2, 4]\n",
      "Player 1 bet 1 2s\n",
      "--------------------\n",
      "Player 0's turn, their dice are: [1, 0, 4, 1]\n",
      "Player 0 bet 3 1s\n",
      "--------------------\n",
      "Player 1's turn, their dice are: [4, 2, 4]\n",
      "Player 1 called the bet.\n",
      "There are actually 2 1s.\n",
      "Player 0 loses 1 dice.\n",
      "####################\n",
      "New round started.\n",
      "Players have [3, 3, 0] dice.\n",
      "--------------------\n",
      "Player 1's turn, their dice are: [2, 1, 5]\n",
      "Player 1 bet 1 3s\n",
      "--------------------\n",
      "Player 0's turn, their dice are: [3, 5, 1]\n",
      "Player 0 bet 3 3s\n",
      "--------------------\n",
      "Player 1's turn, their dice are: [2, 1, 5]\n",
      "Player 1 called the bet.\n",
      "There are actually 3 3s.\n",
      "Everyone but the better loses a die.\n",
      "####################\n",
      "New round started.\n",
      "Players have [3, 2, 0] dice.\n",
      "--------------------\n",
      "Player 0's turn, their dice are: [5, 4, 3]\n",
      "Player 0 bet 2 4s\n",
      "--------------------\n",
      "Player 1's turn, their dice are: [0, 0]\n",
      "Player 1 called the bet.\n",
      "There are actually 2 4s.\n",
      "Everyone but the better loses a die.\n",
      "####################\n",
      "New round started.\n",
      "Players have [3, 1, 0] dice.\n",
      "--------------------\n",
      "Player 0's turn, their dice are: [0, 4, 5]\n",
      "Player 0 bet 2 4s\n",
      "--------------------\n",
      "Player 1's turn, their dice are: [4]\n",
      "Player 1 called the bet.\n",
      "There are actually 3 4s.\n",
      "Player 1 loses 1 dice.\n",
      "!!!!!!!!!!!!!!!!!!!\n",
      "Game over!\n",
      "Player 0 wins!\n",
      "!!!!!!!!!!!!!!!!!!!\n"
     ]
    }
   ],
   "source": [
    "agents = [cmb.agents.MaxAgent(), cmb.agents.SimpleAgent(), cmb.agents.SimpleAgent()]\n",
    "state = cmb.game.initialize_game(len(agents))\n",
    "\n",
    "while not cmb.game.game_over(state):\n",
    "    while not cmb.game.round_over(state):\n",
    "\n",
    "        observation = cmb.game.player_observation(state)\n",
    "        action = agents[state.player_curr].policy(observation)\n",
    "        state = cmb.game.player_action(state, action)\n",
    "        cmb.game.render(state)\n",
    "\n",
    "    for agent in agents:\n",
    "        agent.round_results(state)\n",
    "    state = cmb.game.new_round(state)\n",
    "\n"
   ]
  },
  {
   "cell_type": "code",
   "execution_count": null,
   "metadata": {},
   "outputs": [],
   "source": []
  },
  {
   "cell_type": "code",
   "execution_count": null,
   "metadata": {},
   "outputs": [],
   "source": []
  }
 ],
 "metadata": {
  "kernelspec": {
   "display_name": ".venv",
   "language": "python",
   "name": "python3"
  },
  "language_info": {
   "codemirror_mode": {
    "name": "ipython",
    "version": 3
   },
   "file_extension": ".py",
   "mimetype": "text/x-python",
   "name": "python",
   "nbconvert_exporter": "python",
   "pygments_lexer": "ipython3",
   "version": "3.11.4"
  },
  "orig_nbformat": 4
 },
 "nbformat": 4,
 "nbformat_minor": 2
}
